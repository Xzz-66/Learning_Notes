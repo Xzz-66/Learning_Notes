{
 "cells": [
  {
   "cell_type": "markdown",
   "id": "414a991f-894f-4adb-baa7-3324e3f7b316",
   "metadata": {},
   "source": [
    "* for 循环语句"
   ]
  },
  {
   "cell_type": "code",
   "execution_count": 1,
   "id": "d79b6f5a-9470-4dde-996b-6c2dc99d2130",
   "metadata": {},
   "outputs": [
    {
     "name": "stdout",
     "output_type": "stream",
     "text": [
      "M\n",
      "a\n",
      "t\n",
      "p\n",
      "l\n",
      "o\n",
      "t\n",
      "l\n",
      "i\n",
      "b\n",
      "Matplotlib\n",
      "NumPy\n",
      "Seaborn\n",
      "Pandas\n",
      "Plotly\n",
      "SK-learn\n",
      "=================\n",
      "Matplotlib\n",
      "A visualization tool\n",
      "=================\n",
      "NumPy\n",
      "=================\n",
      "Seaborn\n",
      "A visualization tool\n",
      "=================\n",
      "Pandas\n",
      "=================\n",
      "Plotly\n",
      "A visualization tool\n",
      "=================\n",
      "SK-learn\n",
      "===============\n",
      "Matplotlib\n",
      "M\n",
      "a\n",
      "t\n",
      "p\n",
      "l\n",
      "o\n",
      "t\n",
      "l\n",
      "i\n",
      "b\n",
      "===============\n",
      "NumPy\n",
      "N\n",
      "u\n",
      "m\n",
      "P\n",
      "y\n",
      "===============\n",
      "Seaborn\n",
      "S\n",
      "e\n",
      "a\n",
      "b\n",
      "o\n",
      "r\n",
      "n\n",
      "===============\n",
      "Pandas\n",
      "P\n",
      "a\n",
      "n\n",
      "d\n",
      "a\n",
      "s\n",
      "===============\n",
      "Plotly\n",
      "P\n",
      "l\n",
      "o\n",
      "t\n",
      "l\n",
      "y\n",
      "===============\n",
      "SK-learn\n",
      "S\n",
      "K\n",
      "-\n",
      "l\n",
      "e\n",
      "a\n",
      "r\n",
      "n\n"
     ]
    }
   ],
   "source": [
    "# 循环字符串内字符\n",
    "str_for_loop = 'Matplotlib'\n",
    "\n",
    "for str_idx in str_for_loop: \n",
    "    print(str_idx)\n",
    "\n",
    "# 循环list中元素 \n",
    "list_for_loop = ['Matplotlib', 'NumPy', 'Seaborn', 'Pandas', 'Plotly', 'SK-learn']\n",
    "for item_idx in list_for_loop:\n",
    "    print(item_idx)\n",
    "\n",
    "# 循环中嵌入 if 判断 \n",
    "packages_visual = ['Matplotlib', 'Seaborn', 'Plotly'] \n",
    "for item_idx in list_for_loop:\n",
    "    print('=================')\n",
    "    print(item_idx)\n",
    "    if item_idx in packages_visual:\n",
    "        print('A visualization tool')\n",
    "\n",
    "# 嵌套 for 循环 \n",
    "for item_idx in list_for_loop: \n",
    "    print('===============')\n",
    "    print(item_idx)\n",
    "    for item_idx in item_idx:\n",
    "        print(item_idx)"
   ]
  },
  {
   "cell_type": "code",
   "execution_count": 2,
   "id": "bd971511-7ac8-45c8-9efe-9d474063d778",
   "metadata": {},
   "outputs": [
    {
     "name": "stdout",
     "output_type": "stream",
     "text": [
      "0\n",
      "1\n",
      "2\n",
      "3\n",
      "4\n",
      "5\n",
      "6\n",
      "7\n"
     ]
    }
   ],
   "source": [
    "#break\n",
    "for x in range(10):\n",
    "    if x >= 8:\n",
    "        break \n",
    "    else:\n",
    "        print(x) \n",
    "else:\n",
    "    print(\"For loop finished\") #当循环被 break语句打断后，else语句中的附加操作不会被执行"
   ]
  },
  {
   "cell_type": "markdown",
   "id": "4a039384-cada-4079-830a-b54372ed7a37",
   "metadata": {},
   "source": [
    "* while 循环语句"
   ]
  },
  {
   "cell_type": "markdown",
   "id": "03dfcabd-b1ff-4b21-ad75-25edf6ca0fe3",
   "metadata": {},
   "source": [
    "* 异常处理语句\n",
    "  * try 语句块包含可能引发异常的代码，而 except 语句块用于处理异常情况。"
   ]
  },
  {
   "cell_type": "code",
   "execution_count": 3,
   "id": "77c1eacc-8640-4342-936e-948b275a85c1",
   "metadata": {},
   "outputs": [
    {
     "name": "stdout",
     "output_type": "stream",
     "text": [
      "除数不能为零\n"
     ]
    }
   ],
   "source": [
    "try:\n",
    "    x = 1 / 0\n",
    "except ZeroDivisionError:\n",
    "    print(\"除数不能为零\")"
   ]
  },
  {
   "cell_type": "markdown",
   "id": "a3313bbb-d240-4426-8c89-7b7af1dc6683",
   "metadata": {},
   "source": [
    "* if 条件语句"
   ]
  },
  {
   "cell_type": "code",
   "execution_count": 6,
   "id": "5668fb92-4b87-4231-954a-1c2d7ce7047a",
   "metadata": {},
   "outputs": [
    {
     "name": "stdin",
     "output_type": "stream",
     "text": [
      "请输入一个数值： 89\n"
     ]
    },
    {
     "name": "stdout",
     "output_type": "stream",
     "text": [
      "及格\n"
     ]
    }
   ],
   "source": [
    "value = input(\"请输入一个数值：\")\n",
    "#第一层\n",
    "if value.isdigit(): #用isdigit()的方法判断是否是一个数值(整数）\n",
    "    number = int(value) #将数值转换为整数类型\n",
    "    #第二层\n",
    "    if 0 <= number <= 100:\n",
    "        #第三层\n",
    "        if number < 60:\n",
    "            print(\"不及格\")\n",
    "        else:\n",
    "            print(\"及格\")\n",
    "        #第三层结束\n",
    "    else:\n",
    "        print(\"数值不在0-100之间\")\n",
    "    #第二层结束\n",
    "else:\n",
    "    print(\"输入的不是一个数值\")\n",
    "#第一层结束"
   ]
  },
  {
   "cell_type": "markdown",
   "id": "69a84c31-81ad-40fb-a52f-f551b197cb20",
   "metadata": {},
   "source": [
    "* break, continue, pass 语句\n",
    "  * break 语句可以用来跳出当前循环。当循环执行到 break 语句时，程序将立即跳出循环体，继续执行循环外的语句。\n",
    "  * continue 语句可以用来跳过当前循环中的某些语句。当循环执行到 continue 语句时，程序将立即跳过本次循环，继续执行下一次循环。\n",
    "  * pass 语句什么也不做，它只是一个空语句占位符。在需要有语句的地方，但是暂时不想编写任何语句时，可以使用 pass"
   ]
  },
  {
   "cell_type": "code",
   "execution_count": 7,
   "id": "805f9781-c94c-4e99-87de-99ca41993a96",
   "metadata": {},
   "outputs": [
    {
     "name": "stdout",
     "output_type": "stream",
     "text": [
      "1\n",
      "2\n"
     ]
    }
   ],
   "source": [
    "for i in range(1, 6):\n",
    "    if i == 3:\n",
    "        break\n",
    "    print(i)"
   ]
  },
  {
   "cell_type": "code",
   "execution_count": 8,
   "id": "1f817f6e-98cb-463f-bcc2-29e4755fab31",
   "metadata": {},
   "outputs": [
    {
     "name": "stdout",
     "output_type": "stream",
     "text": [
      "1\n",
      "2\n",
      "4\n",
      "5\n"
     ]
    }
   ],
   "source": [
    "for i in range(1, 6):\n",
    "    if i == 3:\n",
    "        continue\n",
    "    print(i)"
   ]
  },
  {
   "cell_type": "code",
   "execution_count": 9,
   "id": "4379356d-459f-4165-aa0d-2059eeaad55a",
   "metadata": {},
   "outputs": [
    {
     "name": "stdout",
     "output_type": "stream",
     "text": [
      "1\n",
      "2\n",
      "3\n",
      "4\n",
      "5\n"
     ]
    }
   ],
   "source": [
    "for i in range(1, 6):\n",
    "    pass\n",
    "    print(i)"
   ]
  },
  {
   "cell_type": "markdown",
   "id": "c87583d4-def3-4adb-aa59-2cd0ba603a96",
   "metadata": {},
   "source": [
    "* for循环计算向量内积"
   ]
  },
  {
   "cell_type": "code",
   "execution_count": 14,
   "id": "ddb514a5-0ddc-482a-a01e-bd34d0631ee8",
   "metadata": {},
   "outputs": [
    {
     "name": "stdout",
     "output_type": "stream",
     "text": [
      "向量内积为： 80\n",
      "<class 'range'>\n",
      "range(0, 5)\n"
     ]
    }
   ],
   "source": [
    "# 计算向量内积\n",
    "# 定义向量a和b \n",
    "a = [1, 2, 3, 4, 5] \n",
    "b = [6, 7, 8, 9, 0]\n",
    "\n",
    "# 初始化内积为0 \n",
    "dot_product = 0\n",
    "\n",
    "# 使用for循环计算内积 \n",
    "for i in range(len(a)):  #range(len(a)) 创建一个包含从 0 到 len(a)-1 的整数可迭代对象。\n",
    "    dot_product += a[i] * b[i]\n",
    "\n",
    "# 打印内积 \n",
    "print(\"向量内积为：\", dot_product)\n",
    "print(type(range(len(a))))\n",
    "print(range(len(a)))"
   ]
  },
  {
   "cell_type": "markdown",
   "id": "6ef4eb14-5252-4829-b438-206663ca3686",
   "metadata": {},
   "source": [
    "* ！！循环中常用的函数！！\n",
    "  * range(start, stop, step)\n",
    "    * start-序列起始值；stop-序列结束值（不包含）\n",
    "    * step-步长；默认1\n",
    "    * range函数生成的是可迭代对象，而非列表，可以节省内存空间"
   ]
  },
  {
   "cell_type": "code",
   "execution_count": 19,
   "id": "b85c4e8a-9029-4718-8f42-c7c631609720",
   "metadata": {},
   "outputs": [
    {
     "name": "stdout",
     "output_type": "stream",
     "text": [
      "0\n",
      "1\n",
      "2\n",
      "3\n",
      "4\n",
      "10\n",
      "11\n",
      "12\n",
      "13\n",
      "14\n",
      "15\n",
      "16\n",
      "17\n",
      "18\n",
      "19\n",
      "20\n",
      "1\n",
      "3\n",
      "5\n",
      "7\n",
      "9\n",
      "10\n",
      "9\n",
      "8\n",
      "7\n",
      "6\n",
      "5\n",
      "4\n",
      "3\n",
      "2\n",
      "1\n"
     ]
    },
    {
     "data": {
      "text/plain": [
       "[10, 9, 8, 7, 6, 5, 4, 3, 2, 1]"
      ]
     },
     "execution_count": 19,
     "metadata": {},
     "output_type": "execute_result"
    }
   ],
   "source": [
    "# 生成从0-4的整数序列\n",
    "for i in range(4+1):\n",
    "    print(i)\n",
    "\n",
    "#生成从10-20的整数序列\n",
    "for i in range(10,20+1):\n",
    "    print(i)\n",
    "\n",
    "#生成从1-10的奇数序列\n",
    "for i in range(1,10+1,2):\n",
    "    print(i)\n",
    "\n",
    "#生成从10-1的倒序整数序列\n",
    "for i in range(10,1-1,-1):\n",
    "    print(i)\n",
    "\n",
    "#将range（）生成的可迭代对象变成list\n",
    "list(range(10,1-1,-1))"
   ]
  },
  {
   "cell_type": "markdown",
   "id": "4d5acbd3-2b3e-4a18-9537-9d38b47b7972",
   "metadata": {},
   "source": [
    "* ！！循环中常用的函数！！\n",
    "  * enumerate()\n",
    "  * 用于在迭代时跟踪索引的内置函数。enumerate() 函数可以将一个可迭代对象转换为一个由索引和元素组成的枚举对象。"
   ]
  },
  {
   "cell_type": "code",
   "execution_count": 36,
   "id": "f3a103a4-0171-4857-9e57-f012f607d739",
   "metadata": {},
   "outputs": [
    {
     "name": "stdout",
     "output_type": "stream",
     "text": [
      "0 apple\n",
      "1 banana\n",
      "2 cherry\n"
     ]
    },
    {
     "data": {
      "text/plain": [
       "'\\nfruits 列表中的每个元素都会被遍历一遍，\\n每次遍历都会获得该元素的值和其在列表中的索引(默认从 0 开始)。\\n这些值分别被赋给 index 和 fruit 变量，并打印输出。\\n'"
      ]
     },
     "execution_count": 36,
     "metadata": {},
     "output_type": "execute_result"
    }
   ],
   "source": [
    "fruits = ['apple', 'banana', 'cherry']\n",
    "for index, fruit in enumerate(fruits):\n",
    "    print(index, fruit)\n",
    "'''\n",
    "fruits 列表中的每个元素都会被遍历一遍，\n",
    "每次遍历都会获得该元素的值和其在列表中的索引(默认从 0 开始)。\n",
    "这些值分别被赋给 index 和 fruit 变量，并打印输出。\n",
    "'''"
   ]
  },
  {
   "cell_type": "code",
   "execution_count": 21,
   "id": "4fcdd323-58bb-4cfa-bb82-99ec9de64179",
   "metadata": {},
   "outputs": [
    {
     "name": "stdout",
     "output_type": "stream",
     "text": [
      "1 apple\n",
      "2 banana\n",
      "3 cherry\n"
     ]
    }
   ],
   "source": [
    "fruits = ['apple', 'banana', 'cherry']\n",
    "for index, fruit in enumerate(fruits,1):  #指定索引的起始编号为1\n",
    "    print(index, fruit) "
   ]
  },
  {
   "cell_type": "markdown",
   "id": "75b32d98-b617-4676-993e-1f6658103f5e",
   "metadata": {},
   "source": [
    "* ！！循环中常用的函数！！\n",
    "  * zip() 同步遍历多个对象\n",
    "  * 将多个可迭代对象的元素组合成元组，然后返回这些元组组成的迭代器。\n",
    "  * 在 for 循环中使用 zip() 函数可以方便地同时遍历多个可迭代对象。\n",
    "  * 当这些可迭代对象的长度不同时，zip() 函数会以最短长度的可迭代对象为准进行迭代。\n",
    "  * 如果想要以长度最长的可迭代对象为准进行迭代，可以用 itertools.zip_longest()。缺失元素默认以 None 补齐，或者以用户指定值补齐。"
   ]
  },
  {
   "cell_type": "code",
   "execution_count": 22,
   "id": "d0df5047-16e7-45cd-8f6b-b18c962ecdda",
   "metadata": {},
   "outputs": [
    {
     "name": "stdout",
     "output_type": "stream",
     "text": [
      "Alice 80\n",
      "Bob 90\n",
      "Charlie 75\n"
     ]
    }
   ],
   "source": [
    "names = ['Alice', 'Bob', 'Charlie'] \n",
    "scores = [80, 90, 75] \n",
    "for name, score in zip(names, scores):\n",
    "    print(name, score)"
   ]
  },
  {
   "cell_type": "code",
   "execution_count": null,
   "id": "1ab18996-db0a-4494-804a-a39068b70334",
   "metadata": {},
   "outputs": [],
   "source": [
    "# 计算向量内积\n",
    "\n",
    "# 定义向量a和b \n",
    "a = [1, 2, 3, 4, 5] \n",
    "b = [6, 7, 8, 9, 0]\n",
    "\n",
    "# 初始化内积为0 \n",
    "dot_product = 0\n",
    "\n",
    "# 使用for循环计算内积 \n",
    "for a_i, b_i in zip(a, b):\n",
    "    dot_product += (a_i * b_i)\n",
    "\n",
    "# 打印内积 \n",
    "print(\"向量内积为：\", dot_product)"
   ]
  },
  {
   "cell_type": "code",
   "execution_count": 24,
   "id": "1e47bc82-4733-4bdb-bb96-d040d182d8d3",
   "metadata": {},
   "outputs": [
    {
     "name": "stdout",
     "output_type": "stream",
     "text": [
      "X坐标：\n",
      "[[0, 1, 2, 3, 4, 5]]\n",
      "Y坐标：\n",
      "[[3, 3, 3, 3, 3, 3]]\n"
     ]
    }
   ],
   "source": [
    "#两层for循环生成二维坐标\n",
    "# 自定义函数 \n",
    "def custom_meshgrid(x, y):\n",
    "    num_x = len(x); num_y = len(y) \n",
    "    X = []; Y = [] \n",
    "# 外层for循环 \n",
    "    for i in range(num_y):\n",
    "        X_row = []; Y_row = [] \n",
    "\n",
    "    # 内层for循环 \n",
    "        for j in range(num_x):\n",
    "            X_row.append(x[j])\n",
    "            Y_row.append(y[i]) \n",
    "            # 生成二维数组 \n",
    "    X.append(X_row); Y.append(Y_row)\n",
    "\n",
    "    return X, Y\n",
    "\n",
    "# 示例用法 \n",
    "x = [0, 1, 2, 3, 4, 5] # 横坐标列表 \n",
    "y = [0, 1, 2, 3] # 纵坐标列表 \n",
    "# 调用自定义函数 \n",
    "X, Y = custom_meshgrid(x, y) \n",
    "print(\"X坐标：\"); print(X) \n",
    "print(\"Y坐标：\"); print(Y)\n"
   ]
  },
  {
   "cell_type": "code",
   "execution_count": 29,
   "id": "43cbc2f5-3a0c-469e-bc64-e70e1ebdba95",
   "metadata": {},
   "outputs": [
    {
     "name": "stdout",
     "output_type": "stream",
     "text": [
      "[1010, 404]\n",
      "[2424, 1010]\n",
      "[3838, 1616]\n"
     ]
    }
   ],
   "source": [
    "# 矩阵乘法：三层for循环\n",
    "# 定义矩阵 A 和 B\n",
    "A = [[1,2,10,20],\n",
    "     [3,4,30,40],\n",
    "     [5,6,50,60]]\n",
    "B = [[4,2],\n",
    "     [3,1],\n",
    "     [40,20],\n",
    "     [30,10]]\n",
    "#定义全0矩阵C 用来存放结果\n",
    "C = [[0,0],\n",
    "     [0,0],\n",
    "     [0,0]]\n",
    "\n",
    "#矩阵乘法\n",
    "#遍历A的行\n",
    "for i in range(len(A)): #len(A)输出A的行数\n",
    "    #遍历B的列\n",
    "    for j in range(len(B[0])):  #len(B[0])输出B的行数\n",
    "        #这一层相当于消去k所在的维度，即压缩\n",
    "        for k in range(len(B)):\n",
    "            C[i][j] += A[i][k]*B[k][j]\n",
    "            #完成相应元素相乘，再求和\n",
    "#输出结果\n",
    "for row in C:\n",
    "    print(row)"
   ]
  },
  {
   "cell_type": "code",
   "execution_count": 30,
   "id": "6ba72d8a-eba2-4322-9de8-3c91c01eb12d",
   "metadata": {},
   "outputs": [
    {
     "name": "stdout",
     "output_type": "stream",
     "text": [
      "[1010, 404]\n",
      "[2424, 1010]\n",
      "[3838, 1616]\n"
     ]
    }
   ],
   "source": [
    "# 矩阵乘法：三层for循环\n",
    "# 定义矩阵 A 和 B\n",
    "A = [[1,2,10,20],\n",
    "     [3,4,30,40],\n",
    "     [5,6,50,60]]\n",
    "B = [[4,2],\n",
    "     [3,1],\n",
    "     [40,20],\n",
    "     [30,10]]\n",
    "#定义全0矩阵C 用来存放结果\n",
    "C = [[0,0],\n",
    "     [0,0],\n",
    "     [0,0]]\n",
    "\n",
    "#矩阵乘法\n",
    "#遍历B的列\n",
    "for i in range(len(B[0])): #len(B[0])输出B的行数\n",
    "    #遍历B的列\n",
    "    for j in range(len(A)):  #len(A)输出A的行数\n",
    "        #这一层相当于消去k所在的维度，即压缩\n",
    "        for k in range(len(B)):\n",
    "            C[j][i] += A[j][k]*B[k][i]\n",
    "            #完成相应元素相乘，再求和\n",
    "#输出结果\n",
    "for row in C:\n",
    "    print(row)"
   ]
  },
  {
   "cell_type": "markdown",
   "id": "c6c8f507-5968-4000-a89a-3dd77ebc7797",
   "metadata": {},
   "source": [
    "* 向量化运算——避免for循环\n",
    "  * 利用 NumPy 完成向量内积、矩阵乘法运算"
   ]
  },
  {
   "cell_type": "code",
   "execution_count": 31,
   "id": "c6b5675b-5eda-4b3f-9fa9-5a8e38eef276",
   "metadata": {},
   "outputs": [
    {
     "name": "stdout",
     "output_type": "stream",
     "text": [
      "向量内积为： 80\n"
     ]
    }
   ],
   "source": [
    "import numpy as np \n",
    "# 定义向量a和b；准确来说是一维数组 \n",
    "a = np.array([1, 2, 3, 4, 5]) \n",
    "b = np.array([6, 7, 8, 9, 0])\n",
    "\n",
    "# 计算向量内积 \n",
    "dot_product = np.dot(a,b) \n",
    "# 打印内积 \n",
    "print(\"向量内积为：\", dot_product)"
   ]
  },
  {
   "cell_type": "code",
   "execution_count": 34,
   "id": "28ad6e2f-a7d5-4468-aaed-02569ecbe0ac",
   "metadata": {},
   "outputs": [
    {
     "name": "stdout",
     "output_type": "stream",
     "text": [
      "[[ 505 1111]\n",
      " [1111 2525]]\n",
      "[[  10   14  100  140]\n",
      " [  14   20  140  200]\n",
      " [ 100  140 1000 1400]\n",
      " [ 140  200 1400 2000]]\n"
     ]
    }
   ],
   "source": [
    "import numpy as np\n",
    "#定义矩阵A和B\n",
    "A = np.array([[1,2,10,20],\n",
    "              [3,4,30,40]])\n",
    "B = np.array([[1,3],\n",
    "              [2,4],\n",
    "              [10,30],\n",
    "              [20,40]])\n",
    "C = A @ B; print(C) #用 @ 运算符计算矩阵乘法\n",
    "D = B @ A; print(D)"
   ]
  },
  {
   "cell_type": "code",
   "execution_count": 35,
   "id": "747c93ce-0912-4d37-b0d0-1d6abd800162",
   "metadata": {},
   "outputs": [
    {
     "name": "stdout",
     "output_type": "stream",
     "text": [
      "--- 0.009704113006591797 seconds ---\n",
      "--- 3.743328809738159 seconds ---\n"
     ]
    }
   ],
   "source": [
    "#计算numpy的计算速度\n",
    "from numpy.random import randint \n",
    "num = 200 \n",
    "# num * num大小方阵，0~9随机数 \n",
    "A = randint(0, 10, size = (num,num)) \n",
    "B = randint(0, 10, size = (num,num))\n",
    "\n",
    "# 使用NumPy计算矩阵乘法 \n",
    "import time \n",
    "start_time = time.time() # 开始时刻 \n",
    "C_1 = A @ B \n",
    "stop_time = time.time() # 结束时刻 \n",
    "time_used = stop_time - start_time \n",
    "print(\"--- %s seconds ---\" %time_used)\n",
    "\n",
    "C = np.zeros((num,num)) # num * num大小全0方阵\n",
    "\n",
    "# 手动计算矩阵乘法 \n",
    "start_time = time.time() # 开始时刻\n",
    "for i in range(len(A)):\n",
    "    for j in range(len(B[0])):\n",
    "        for k in range(len(B)):\n",
    "            C[i][j] += A[i][k] * B[k][j]\n",
    "stop_time = time.time() # 结束时刻 \n",
    "time_used = stop_time - start_time \n",
    "print(\"--- %s seconds ---\" %time_used)"
   ]
  },
  {
   "cell_type": "markdown",
   "id": "f674dfa7-d3b2-46e3-a644-9577303c142c",
   "metadata": {},
   "source": []
  },
  {
   "cell_type": "markdown",
   "id": "d5164690-1740-4098-bd93-b563adbbe652",
   "metadata": {},
   "source": [
    "* 列表生成式\n",
    "  * 简洁语法，用于快速生成新的列表\n",
    "  * [expression for item in iterable if condition]\n",
    "  * 其中 expression 表示要生成的元素，item 表示迭代的变量，iterable 表示迭代的对象，if condition 表示可选的过滤条件。"
   ]
  },
  {
   "cell_type": "code",
   "execution_count": 2,
   "id": "34135973-744a-4bc5-9e49-a3e363e551bb",
   "metadata": {},
   "outputs": [
    {
     "name": "stdout",
     "output_type": "stream",
     "text": [
      "[2, 4, 6, 8, 10]\n"
     ]
    }
   ],
   "source": [
    "even_numbers = [num for num in range(1,11) if num % 2 == 0] \n",
    "'''\n",
    "num 是循环中的变量，依次取遍这个范围内的每个数字。\n",
    "使用条件语句 if num % 2 == 0 来筛选偶数\n",
    "'''\n",
    "print(even_numbers) "
   ]
  },
  {
   "cell_type": "code",
   "execution_count": 3,
   "id": "ce7c2627-ecd4-4861-8c40-496d0d22910d",
   "metadata": {},
   "outputs": [
    {
     "name": "stdout",
     "output_type": "stream",
     "text": [
      "[[1, 2, 3], [2, 4, 6], [3, 6, 9]]\n"
     ]
    }
   ],
   "source": [
    "# 列表生成式的嵌套结构\n",
    "matrix = [[i * j for j in range(1, 4)] for i in range(1, 4)] \n",
    "print(matrix) # Output: [[1, 2, 3], [2, 4, 6], [3, 6, 9]]"
   ]
  },
  {
   "cell_type": "code",
   "execution_count": 7,
   "id": "8bf932fc-8ed7-44ef-883a-d2534dc16c7b",
   "metadata": {},
   "outputs": [
    {
     "name": "stdout",
     "output_type": "stream",
     "text": [
      "[[0, 0], [0, 0], [0, 0]]\n"
     ]
    }
   ],
   "source": [
    "# 列表生成式生成全 0 矩阵\n",
    "C = [[i*j*0 for j in range(1,3)]for i in range(1,4)]\n",
    "print(C)"
   ]
  },
  {
   "cell_type": "code",
   "execution_count": 14,
   "id": "18a6f631-77e2-411a-89f1-b56c944c49ec",
   "metadata": {},
   "outputs": [
    {
     "name": "stdout",
     "output_type": "stream",
     "text": [
      "[0.0, 0.5, 1.0, 1.5, 2.0, 2.5, 3.0, 3.5, 4.0, 4.5, 5.0, 5.5, 6.0, 6.5, 7.0, 7.5, 8.0, 8.5, 9.0, 9.5, 10.0]\n"
     ]
    }
   ],
   "source": [
    "# 自定义函数模仿 numpy.linspace() 生成等差数列\n",
    "def linspace(start, stop, num=50, endpoint=True):\n",
    "    if num < 2:\n",
    "        # 报错 \n",
    "        raise ValueError(\"Number of samples must be at least 2\")  #raise 用于引发异常\n",
    "        \n",
    "    # 是否包括右端点 \n",
    "    if endpoint:\n",
    "        step = (stop - start) / (num - 1) \n",
    "        return [start + i * step for i in range(num)] \n",
    "    else:\n",
    "        step = (stop - start) / num \n",
    "        return [start + i * step for i in range(num)]\n",
    "\n",
    "  \n",
    "\n",
    "# 示例用法\n",
    "start = 0 # 数列起点 \n",
    "stop = 10 # 数列终点 \n",
    "num = 21 # 数列元素 \n",
    "endpoint = True # 数列包含 stop \n",
    "# 调用自定义函数生成等差数列 \n",
    "values = linspace(start, stop, num, endpoint)\n",
    "print(values)"
   ]
  },
  {
   "cell_type": "code",
   "execution_count": null,
   "id": "0b9cd0f8-e5b0-4f1d-94e4-f74c34d58731",
   "metadata": {},
   "outputs": [],
   "source": [
    "# 自定义函数模仿 numpy.linspace() 生成等差数列\n",
    "def linspace(start, stop, num=50, endpoint=True):\n",
    "    if num < 2 or not isinstance(num, int):\n",
    "        # 报错：num 需要是不小于2的正整数\n",
    "        raise ValueError(\"Number of samples must be at least 2 and an integer.\")\n",
    "    if start == stop:\n",
    "        # 报错：start 和 stop 不能相等\n",
    "        raise ValueError(\"Start and stop cannot be the same.\")\n",
    "    \n",
    "    # 方法1: 根据 endpoint 参数调整步长的计算\n",
    "    step = (stop - start) / (num - 1 if endpoint else num)\n",
    "    return [start + i * step for i in range(num)]\n",
    "\n",
    "    # 方法2: 总是计算步长为 (stop - start) / num\n",
    "    step = (stop - start) / num\n",
    "    # 列表生成式中使用 if 判断来决定是否包含终点\n",
    "    return [start + i * step for i in range(num + 1) if (i < num or endpoint)]"
   ]
  },
  {
   "cell_type": "code",
   "execution_count": 16,
   "id": "0ccc5993-b48f-4529-98d1-1128f3f835db",
   "metadata": {},
   "outputs": [
    {
     "name": "stdout",
     "output_type": "stream",
     "text": [
      "[[1, 4], [2, 5], [3, 6]]\n"
     ]
    }
   ],
   "source": [
    "# 矩阵转置：一层列表生成式\n",
    "def transpose(matrix):\n",
    "    transposed = [] \n",
    "    rows = len(matrix) \n",
    "    cols = len(matrix[0])\n",
    "    for j in range(cols): #固定列，遍历每一行，按行排列\n",
    "        transposed_row = [matrix[i][j] for i in range(rows)] \n",
    "        transposed.append(transposed_row)\n",
    "    return transposed\n",
    "\n",
    "# 示例用法 \n",
    "A = [[1, 2, 3], [4, 5, 6]] \n",
    "# 调用自定义函数 \n",
    "B = transpose(A)\n",
    "print(B)"
   ]
  },
  {
   "cell_type": "code",
   "execution_count": 17,
   "id": "39febd5c-79b8-4f29-8b08-414ee85f4abb",
   "metadata": {},
   "outputs": [
    {
     "name": "stdout",
     "output_type": "stream",
     "text": [
      "[[1, 4], [2, 5], [3, 6]]\n"
     ]
    }
   ],
   "source": [
    "# 矩阵转置：两层列表生成式\n",
    "def transpose_2(matrix):\n",
    "    transposed = [] \n",
    "    rows = len(matrix) \n",
    "    cols = len(matrix[0])\n",
    "     #转置后的矩阵第j行第i列的元素对应原来矩阵第i行第j列的元素\n",
    "    transposed = [[matrix[j][i]for j in range(rows)] for i in range(cols)]\n",
    "    return transposed\n",
    "\n",
    "# 示例用法 \n",
    "A = [[1, 2, 3], [4, 5, 6]] \n",
    "# 调用自定义函数 \n",
    "B = transpose_2(A)\n",
    "print(B)"
   ]
  },
  {
   "cell_type": "code",
   "execution_count": 19,
   "id": "c5410d50-ea2c-4be3-9a4c-9f1ac956209d",
   "metadata": {},
   "outputs": [
    {
     "name": "stdout",
     "output_type": "stream",
     "text": [
      "[[2, 6], [12, 20]]\n"
     ]
    }
   ],
   "source": [
    "# 计算矩阵逐项积：两层列表生成式\n",
    "# 矩阵逐项积是指两个相同矩阵中相应位置上的元素进行逐一相乘，得到一个新的矩阵\n",
    "def hadamard_prod(M1, M2):\n",
    "    if (len(M1) != len(M2) or len(M1[0]) != len(M2[0])):\n",
    "        raise ValueError(\"Matrices must have the same shape\")\n",
    "    result = [[M1[i][j] * M2[i][j] for j in range(len(M1[0]))] for i in range(len(M1))] \n",
    "    return result\n",
    "\n",
    "A = [[1, 2], [3, 4]] \n",
    "B = [[2, 3],[4, 5]] \n",
    "# 计算矩阵逐项积 \n",
    "C = hadamard_prod(A, B)\n",
    "print(C)"
   ]
  },
  {
   "cell_type": "code",
   "execution_count": 20,
   "id": "bb74308d-1d7f-4adb-a731-a7276b32200a",
   "metadata": {},
   "outputs": [
    {
     "name": "stdout",
     "output_type": "stream",
     "text": [
      "[(1, 'a'), (1, 'b'), (1, 'c'), (2, 'a'), (2, 'b'), (2, 'c'), (3, 'a'), (3, 'b'), (3, 'c'), (4, 'a'), (4, 'b'), (4, 'c')]\n"
     ]
    }
   ],
   "source": [
    "# 笛卡尔积：一层列表生成式\n",
    "column1 = [1, 2, 3, 4] \n",
    "column2 = ['a', 'b', 'c'] \n",
    "cartesian_product = [(x, y) for x in column1 for y in column2] #结果为列表，列表的每个元素为元组\n",
    "print(cartesian_product)"
   ]
  },
  {
   "cell_type": "code",
   "execution_count": 23,
   "id": "a5177f7b-a21f-4743-9ee2-fddb00593d65",
   "metadata": {},
   "outputs": [
    {
     "name": "stdout",
     "output_type": "stream",
     "text": [
      "[(1, 'a'), (2, 'a'), (3, 'a'), (4, 'a')]\n",
      "[(1, 'b'), (2, 'b'), (3, 'b'), (4, 'b')]\n",
      "[(1, 'c'), (2, 'c'), (3, 'c'), (4, 'c')]\n"
     ]
    }
   ],
   "source": [
    "# 笛卡尔积：两层列表生成式\n",
    "column1 = [1, 2, 3, 4] \n",
    "column2 = ['a', 'b', 'c'] \n",
    "cartesian_product = [[(x, y) for x in column1] for y in column2] #结果为二维列表\n",
    "for prod_idx in cartesian_product:\n",
    "    print(prod_idx)"
   ]
  },
  {
   "cell_type": "code",
   "execution_count": 24,
   "id": "3280f539-9cd3-48a0-a3c4-1e73dfac057e",
   "metadata": {},
   "outputs": [
    {
     "name": "stdout",
     "output_type": "stream",
     "text": [
      "[(1, 'a'), (1, 'b'), (1, 'c'), (2, 'a'), (2, 'b'), (2, 'c'), (3, 'a'), (3, 'b'), (3, 'c'), (4, 'a'), (4, 'b'), (4, 'c')]\n"
     ]
    }
   ],
   "source": [
    "# 利用 itertools.product() 函数计算笛卡儿积\n",
    "from itertools import product \n",
    "column1 = [1, 2, 3, 4] \n",
    "column2 = ['a', 'b', 'c']\n",
    "cartesian_product = list(product(column1, column2)) \n",
    "print(cartesian_product)"
   ]
  },
  {
   "cell_type": "code",
   "execution_count": null,
   "id": "935833c0-1225-4d86-91d8-d466dfc79949",
   "metadata": {},
   "outputs": [],
   "source": []
  },
  {
   "cell_type": "markdown",
   "id": "17047a9a-8a2e-4971-8f5d-d02716ef2aac",
   "metadata": {},
   "source": [
    "* 迭代器 itertools\n",
    "  * 迭代器是一种用于遍历数据集合的对象，它能够逐个返回数据元素，而无需提前将整个数据集加载到内存中。"
   ]
  },
  {
   "cell_type": "code",
   "execution_count": 28,
   "id": "56a6788e-27a8-488c-aa95-5c93a8438280",
   "metadata": {},
   "outputs": [
    {
     "name": "stdout",
     "output_type": "stream",
     "text": [
      "abc\n",
      "acb\n",
      "bac\n",
      "bca\n",
      "cab\n",
      "cba\n"
     ]
    }
   ],
   "source": [
    "# 不放回排列\n",
    "import itertools \n",
    "string = 'abc' \n",
    "perms_all = itertools.permutations(string) \n",
    "'''\n",
    "itertools.permutations用于返回指定长度的所有可能排列方式。\n",
    "返回一个可迭代对象perms，其中包含了string的所有排列方式。\n",
    "'''\n",
    "# 全排列 \n",
    "for perm_idx in perms_all:\n",
    "    print(''.join(perm_idx)) # ''.join(perm_idx) 将当前排列中的元素连接成一个字符串"
   ]
  },
  {
   "cell_type": "code",
   "execution_count": 30,
   "id": "594f68a7-2524-4fdc-911e-fc5c0b9f0397",
   "metadata": {},
   "outputs": [
    {
     "name": "stdout",
     "output_type": "stream",
     "text": [
      "ab\n",
      "ac\n",
      "ba\n",
      "bc\n",
      "ca\n",
      "cb\n"
     ]
    }
   ],
   "source": [
    "import itertools \n",
    "string = 'abc' \n",
    "# 3个不放回取2个的排列 \n",
    "perms_2 = itertools.permutations(string, 2) \n",
    "'''\n",
    "itertools.permutations 函数还有一个可选参数r，用于指定返回的排列长度。如果不指定r，则默认返回与输入序列长度相同的排列。\n",
    "返回一个包含所有长度为2的排列的可迭代对象perms。\n",
    "'''\n",
    "for perm_idx in perms_2:\n",
    "    print(''.join(perm_idx))"
   ]
  },
  {
   "cell_type": "code",
   "execution_count": 32,
   "id": "9de0ddaf-98a6-4df5-b986-22731bd900aa",
   "metadata": {},
   "outputs": [
    {
     "name": "stdout",
     "output_type": "stream",
     "text": [
      "ab\n",
      "ac\n",
      "bc\n"
     ]
    }
   ],
   "source": [
    "# 不放回组合\n",
    "import itertools \n",
    "string = 'abc'\n",
    "# 3个取2个的组合 \n",
    "combs_2 = itertools.combinations(string, 2) \n",
    "'''\n",
    "combinations 函数，传入两个参数：一个可迭代对象和一个整数，表示要选择的元素个数。\n",
    "返回一个包含所有长度为2的组合的可迭代对象combs_2\n",
    "'''\n",
    "\n",
    "for combo_idx in combs_2:\n",
    "    print(''.join(combo_idx))"
   ]
  },
  {
   "cell_type": "code",
   "execution_count": 34,
   "id": "6d57a9ef-eda1-4fd6-b0b5-9db3237edc6f",
   "metadata": {},
   "outputs": [
    {
     "name": "stdout",
     "output_type": "stream",
     "text": [
      "aa\n",
      "ab\n",
      "ac\n",
      "ba\n",
      "bb\n",
      "bc\n",
      "ca\n",
      "cb\n",
      "cc\n"
     ]
    }
   ],
   "source": [
    "# 有放回排列\n",
    "import itertools \n",
    "string = 'abc' \n",
    "# 定义元素列表 \n",
    "elements = list(string) \n",
    "# 指定重复次数 \n",
    "repeat = 2 \n",
    "# 生成有放回排列 \n",
    "permutations = itertools.product(elements, repeat=repeat) \n",
    "# 遍历并打印所有排列 \n",
    "for permutation_idx in permutations:\n",
    "    print(''.join(permutation_idx))"
   ]
  },
  {
   "cell_type": "code",
   "execution_count": 35,
   "id": "663391b1-591b-47fa-87bd-2b7d3535efc7",
   "metadata": {},
   "outputs": [
    {
     "name": "stdout",
     "output_type": "stream",
     "text": [
      "aa\n",
      "ab\n",
      "ac\n",
      "bb\n",
      "bc\n",
      "cc\n"
     ]
    }
   ],
   "source": [
    "# 有放回组合\n",
    "import itertools\n",
    "string = 'abc' \n",
    "# 定义元素列表 \n",
    "elements = list(string)\n",
    "# 指定组合长度 \n",
    "length = 2\n",
    "# 生成有放回组合 \n",
    "combos = itertools.combinations_with_replacement(elements, length)\n",
    "\n",
    "# 遍历并打印所有组合 \n",
    "for combination_idx in combos:\n",
    "    print(''.join(combination_idx))"
   ]
  },
  {
   "cell_type": "code",
   "execution_count": 7,
   "id": "a713800d-9ffe-4e3e-8391-3884d9edfc56",
   "metadata": {},
   "outputs": [
    {
     "name": "stdout",
     "output_type": "stream",
     "text": [
      "7\n",
      "1\n",
      "8\n"
     ]
    }
   ],
   "source": [
    "# 练习:给定一个整数列表 [3, 5, 2, 7, 1]，找到其中的最大值和最小值，并打印两者之和。\n",
    "C = [3,5,2,7,1]\n",
    "for i in range(len(C)-1):\n",
    "    C_max = C[i]\n",
    "    C_min = C[i]\n",
    "    if C[i] < C[i+1]:\n",
    "        C_max = C[i+1]\n",
    "    elif C[i] > C[i+1]:\n",
    "        C_min = C[i+1]\n",
    "print(C_max)\n",
    "print(C_min)\n",
    "print(C_max + C_min)"
   ]
  },
  {
   "cell_type": "code",
   "execution_count": 1,
   "id": "c4e5daf2-6d33-428b-9423-e84d3f25f5f8",
   "metadata": {},
   "outputs": [
    {
     "name": "stdout",
     "output_type": "stream",
     "text": [
      "1\n",
      "3\n",
      "5\n",
      "7\n",
      "9\n"
     ]
    }
   ],
   "source": [
    "# 练习： 使用 while 循环输出 1 到 10 的所有奇数。\n",
    "i = 1\n",
    "while i < 11:\n",
    "    if i % 2 != 0:\n",
    "        print(i)\n",
    "    i += 1  "
   ]
  },
  {
   "cell_type": "code",
   "execution_count": 3,
   "id": "b02e63cf-e9fa-4184-80f1-6d4fa95621ba",
   "metadata": {},
   "outputs": [
    {
     "name": "stdin",
     "output_type": "stream",
     "text": [
      "请输入一个数： f\n",
      "请重新输入一个数字： 3\n"
     ]
    }
   ],
   "source": [
    "# 输入一个数字并将其转换为整数，如果输入的不是数字，则提示用户重新输入直到输入数字为止\n",
    "num = input('请输入一个数：')\n",
    "if num.isdigit():\n",
    "    num = int(num)\n",
    "else:\n",
    "    num = input('请重新输入一个数字：')"
   ]
  },
  {
   "cell_type": "code",
   "execution_count": null,
   "id": "af7f892f-7aa1-4827-82f0-68198f6d8aaf",
   "metadata": {},
   "outputs": [],
   "source": [
    "while True:\n",
    "    try:\n",
    "        num = int(input(\"请输入一个数字：\"))\n",
    "        break\n",
    "    except ValueError:\n",
    "        print(\"输入有误，请重新输入！\")\n",
    "\n",
    "print(\"输入的整数是：\", num)"
   ]
  },
  {
   "cell_type": "code",
   "execution_count": 4,
   "id": "c1449e52-8bfd-4fb1-9185-a12049e0b378",
   "metadata": {},
   "outputs": [
    {
     "name": "stdout",
     "output_type": "stream",
     "text": [
      "[2, 3, 5, 7, 11, 13, 17, 19, 23, 29, 31, 37, 41, 43, 47, 53, 59, 61, 67, 71, 73, 79, 83, 89, 97]\n"
     ]
    }
   ],
   "source": [
    "# 练习：求100以内的素数\n",
    "prime_list = []\n",
    "\n",
    "for num in range(2, 101):\n",
    "    for i in range(2, num):\n",
    "        if num % i == 0:\n",
    "            break\n",
    "    else:\n",
    "        prime_list.append(num)\n",
    "\n",
    "print(prime_list)"
   ]
  },
  {
   "cell_type": "code",
   "execution_count": 8,
   "id": "4c0f4b39-e9f1-48d7-874f-ba99a7fb3566",
   "metadata": {},
   "outputs": [
    {
     "name": "stdout",
     "output_type": "stream",
     "text": [
      "2500\n"
     ]
    }
   ],
   "source": [
    "# 练习：请用至少两种不同办法计算 1-100 中奇数之和。\n",
    "odd_sum_1 = 0\n",
    "for i in range(1,101,2):\n",
    "    odd_sum_1 += i \n",
    "print(odd_sum_1)"
   ]
  },
  {
   "cell_type": "code",
   "execution_count": 10,
   "id": "7c0ecce1-69fd-4cd4-afee-a3634f211e1d",
   "metadata": {},
   "outputs": [
    {
     "name": "stdout",
     "output_type": "stream",
     "text": [
      "2500\n"
     ]
    }
   ],
   "source": [
    "odd_sum_2 = 0\n",
    "j = 0\n",
    "while j <= 100:\n",
    "    if j % 2 != 0:\n",
    "        odd_sum_2 += j\n",
    "    j += 1\n",
    "print(odd_sum_2)"
   ]
  },
  {
   "cell_type": "code",
   "execution_count": 19,
   "id": "cdf03059-5817-4799-ad94-9b7857dfe9d0",
   "metadata": {},
   "outputs": [
    {
     "data": {
      "text/plain": [
       "[6, 15]"
      ]
     },
     "execution_count": 19,
     "metadata": {},
     "output_type": "execute_result"
    }
   ],
   "source": [
    "# 练习：写两个函数分别计算矩阵行、列方向元素之和。\n",
    "# 计算矩阵行方向元素\n",
    "matrix = []\n",
    "def matrixrow_sum(matrix):\n",
    "    row_sum = [i*0 for i in range(len(matrix))]\n",
    "    sum = 0\n",
    "    for i in range(len(matrix)):\n",
    "        for j in range(len(matrix[0])):\n",
    "            row_sum[i] += matrix[i][j]\n",
    "    return row_sum\n",
    "\n",
    "C = [[1,2,3],\n",
    "     [4,5,6]]\n",
    "matrixrow_sum(C)"
   ]
  },
  {
   "cell_type": "code",
   "execution_count": 23,
   "id": "4e98b18d-0028-48b3-bd34-05549dac6cbb",
   "metadata": {},
   "outputs": [
    {
     "data": {
      "text/plain": [
       "[5, 7, 9]"
      ]
     },
     "execution_count": 23,
     "metadata": {},
     "output_type": "execute_result"
    }
   ],
   "source": [
    "# 计算矩阵列方向元素\n",
    "matrix = []\n",
    "def matrixcol_sum(matrix):\n",
    "    col_sum = [j*0 for j in range(len(matrix[0]))]\n",
    "    sum = 0\n",
    "    for j in range(len(matrix[0])):\n",
    "        for i in range(len(matrix)):\n",
    "            col_sum[j] += matrix[i][j]\n",
    "    return col_sum\n",
    "\n",
    "C = [[1,2,3],\n",
    "     [4,5,6]]\n",
    "matrixcol_sum(C)"
   ]
  },
  {
   "cell_type": "code",
   "execution_count": null,
   "id": "3b52cd24-0873-4b77-9a0b-c282e194eb0c",
   "metadata": {},
   "outputs": [],
   "source": []
  }
 ],
 "metadata": {
  "kernelspec": {
   "display_name": "Python 3 (ipykernel)",
   "language": "python",
   "name": "python3"
  },
  "language_info": {
   "codemirror_mode": {
    "name": "ipython",
    "version": 3
   },
   "file_extension": ".py",
   "mimetype": "text/x-python",
   "name": "python",
   "nbconvert_exporter": "python",
   "pygments_lexer": "ipython3",
   "version": "3.11.7"
  }
 },
 "nbformat": 4,
 "nbformat_minor": 5
}
