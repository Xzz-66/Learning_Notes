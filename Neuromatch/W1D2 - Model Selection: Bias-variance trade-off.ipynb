{
 "cells": [
  {
   "cell_type": "code",
   "execution_count": 1,
   "id": "f977681f-c70c-41fd-a62c-cbb83154fa75",
   "metadata": {},
   "outputs": [],
   "source": [
    "# Imports\n",
    "import numpy as np\n",
    "import matplotlib.pyplot as plt"
   ]
  },
  {
   "cell_type": "code",
   "execution_count": 2,
   "id": "4f9cb54d-a9a8-42be-a3eb-d820d509bf0c",
   "metadata": {},
   "outputs": [],
   "source": [
    "# @title Plotting Functions\n",
    "\n",
    "def plot_MSE_poly_fits(mse_train, mse_test, max_order):\n",
    "  \"\"\"\n",
    "    Plot the MSE values for various orders of polynomial fits on the same bar\n",
    "    graph\n",
    "\n",
    "    Args:\n",
    "      mse_train (ndarray): an array of MSE values for each order of polynomial fit\n",
    "      over the training data\n",
    "      mse_test (ndarray): an array of MSE values for each order of polynomial fit\n",
    "      over the test data\n",
    "      max_order (scalar): max order of polynomial fit\n",
    "  \"\"\"\n",
    "  fig, ax = plt.subplots()\n",
    "  width = .35\n",
    "\n",
    "  ax.bar(np.arange(max_order + 1) - width / 2,\n",
    "         mse_train, width, label=\"train MSE\")\n",
    "  ax.bar(np.arange(max_order + 1) + width / 2,\n",
    "         mse_test , width, label=\"test MSE\")\n",
    "\n",
    "  ax.legend()\n",
    "  ax.set(xlabel='Polynomial order', ylabel='MSE',\n",
    "         title='Comparing polynomial fits')\n",
    "  plt.show()"
   ]
  },
  {
   "cell_type": "code",
   "execution_count": 3,
   "id": "fbc1e263-c7ac-482c-9043-45d638b9f5f8",
   "metadata": {},
   "outputs": [],
   "source": [
    "# @title Helper functions\n",
    "\n",
    "def ordinary_least_squares(x, y):\n",
    "  \"\"\"Ordinary least squares estimator for linear regression.\n",
    "\n",
    "  Args:\n",
    "    x (ndarray): design matrix of shape (n_samples, n_regressors)\n",
    "    y (ndarray): vector of measurements of shape (n_samples)\n",
    "\n",
    "  Returns:\n",
    "    ndarray: estimated parameter values of shape (n_regressors)\n",
    "  \"\"\"\n",
    "\n",
    "  return np.linalg.inv(x.T @ x) @ x.T @ y\n",
    "\n",
    "\n",
    "def make_design_matrix(x, order):\n",
    "  \"\"\"Create the design matrix of inputs for use in polynomial regression\n",
    "\n",
    "  Args:\n",
    "    x (ndarray): input vector of shape (n_samples)\n",
    "    order (scalar): polynomial regression order\n",
    "\n",
    "  Returns:\n",
    "    ndarray: design matrix for polynomial regression of shape (samples, order+1)\n",
    "  \"\"\"\n",
    "\n",
    "  # Broadcast to shape (n x 1) so dimensions work\n",
    "  if x.ndim == 1:\n",
    "    x = x[:, None]\n",
    "\n",
    "  #if x has more than one feature, we don't want multiple columns of ones so we assign\n",
    "  # x^0 here\n",
    "  design_matrix = np.ones((x.shape[0],1))\n",
    "\n",
    "  # Loop through rest of degrees and stack columns\n",
    "  for degree in range(1, order+1):\n",
    "      design_matrix = np.hstack((design_matrix, x**degree))\n",
    "\n",
    "  return design_matrix\n",
    "\n",
    "\n",
    "def solve_poly_reg(x, y, max_order):\n",
    "  \"\"\"Fit a polynomial regression model for each order 0 through max_order.\n",
    "\n",
    "  Args:\n",
    "    x (ndarray): input vector of shape (n_samples)\n",
    "    y (ndarray): vector of measurements of shape (n_samples)\n",
    "    max_order (scalar): max order for polynomial fits\n",
    "\n",
    "  Returns:\n",
    "    dict: fitted weights for each polynomial model (dict key is order)\n",
    "  \"\"\"\n",
    "\n",
    "  # Create a dictionary with polynomial order as keys, and np array of theta\n",
    "  # (weights) as the values\n",
    "  theta_hats = {}\n",
    "\n",
    "  # Loop over polynomial orders from 0 through max_order\n",
    "  for order in range(max_order+1):\n",
    "\n",
    "    X = make_design_matrix(x, order)\n",
    "    this_theta = ordinary_least_squares(X, y)\n",
    "\n",
    "    theta_hats[order] = this_theta\n",
    "\n",
    "  return theta_hats"
   ]
  },
  {
   "cell_type": "markdown",
   "id": "c7803e99-76b0-47c2-a383-da0bc152eec8",
   "metadata": {},
   "source": [
    "# Section 1: Train vs test data"
   ]
  },
  {
   "cell_type": "code",
   "execution_count": 4,
   "id": "26568022-e91d-4501-b99c-4c637f116887",
   "metadata": {},
   "outputs": [
    {
     "data": {
      "image/png": "[encoded data removed]",
      "text/plain": [
       "<Figure size 640x480 with 1 Axes>"
      ]
     },
     "metadata": {},
     "output_type": "display_data"
    }
   ],
   "source": [
    "# @markdown Execute this cell to simulate both training and test data\n",
    "\n",
    "### Generate training data\n",
    "np.random.seed(0)\n",
    "n_train_samples = 50\n",
    "x_train = np.random.uniform(-2, 2.5, n_train_samples) # sample from a uniform distribution over [-2, 2.5)\n",
    "noise = np.random.randn(n_train_samples) # sample from a standard normal distribution\n",
    "y_train =  x_train**2 - x_train - 2 + noise\n",
    "\n",
    "### Generate testing data\n",
    "n_test_samples = 20\n",
    "x_test = np.random.uniform(-3, 3, n_test_samples) # sample from a uniform distribution over [-2, 2.5)\n",
    "noise = np.random.randn(n_test_samples) # sample from a standard normal distribution\n",
    "y_test =  x_test**2 - x_test - 2 + noise\n",
    "\n",
    "## Plot both train and test data\n",
    "fig, ax = plt.subplots()\n",
    "plt.title('Training & Test Data')\n",
    "plt.plot(x_train, y_train, '.', markersize=15, label='Training')\n",
    "plt.plot(x_test, y_test, 'g+', markersize=15, label='Test')\n",
    "plt.legend()\n",
    "plt.xlabel('x')\n",
    "plt.ylabel('y');"
   ]
  },
  {
   "cell_type": "markdown",
   "id": "0151b8a4-c769-457f-89f0-b140430e2549",
   "metadata": {},
   "source": [
    "# Section 2: Bias-variance tradeoff"
   ]
  },
  {
   "cell_type": "code",
   "execution_count": 5,
   "id": "6e37a1e8-cbc4-4671-881c-186c0dac86f0",
   "metadata": {},
   "outputs": [],
   "source": [
    "# @markdown Execute this cell to estimate theta_hats\n",
    "max_order = 5\n",
    "theta_hats = solve_poly_reg(x_train, y_train, max_order)"
   ]
  },
  {
   "cell_type": "code",
   "execution_count": 6,
   "id": "214bee69-75d5-4c1f-b0bb-95db62af1c64",
   "metadata": {},
   "outputs": [],
   "source": [
    "# @markdown Execute this cell for function `evalute_poly_reg`\n",
    "\n",
    "def evaluate_poly_reg(x, y, theta_hats, max_order):\n",
    "  \"\"\" Evaluates MSE of polynomial regression models on data\n",
    "\n",
    "  Args:\n",
    "    x (ndarray): input vector of shape (n_samples)\n",
    "    y (ndarray): vector of measurements of shape (n_samples)\n",
    "    theta_hats (dict):  fitted weights for each polynomial model (dict key is order)\n",
    "    max_order (scalar): max order of polynomial fit\n",
    "\n",
    "  Returns\n",
    "    (ndarray): mean squared error for each order, shape (max_order)\n",
    "  \"\"\"\n",
    "\n",
    "  mse = np.zeros((max_order + 1))\n",
    "  for order in range(0, max_order + 1):\n",
    "    X_design = make_design_matrix(x, order)\n",
    "    y_hat = np.dot(X_design, theta_hats[order])\n",
    "    residuals = y - y_hat\n",
    "    mse[order] = np.mean(residuals ** 2)\n",
    "\n",
    "  return mse"
   ]
  },
  {
   "cell_type": "code",
   "execution_count": 7,
   "id": "fef2a745-5478-4aad-9031-e1af79523cb8",
   "metadata": {},
   "outputs": [
    {
     "data": {
      "image/png": "[encoded data removed]",
      "text/plain": [
       "<Figure size 640x480 with 1 Axes>"
      ]
     },
     "metadata": {},
     "output_type": "display_data"
    }
   ],
   "source": [
    "def compute_mse(x_train, x_test, y_train, y_test, theta_hats, max_order):\n",
    "  \"\"\"Compute MSE on training data and test data.\n",
    "\n",
    "  Args:\n",
    "    x_train(ndarray): training data input vector of shape (n_samples)\n",
    "    x_test(ndarray): test data input vector of shape (n_samples)\n",
    "    y_train(ndarray): training vector of measurements of shape (n_samples)\n",
    "    y_test(ndarray): test vector of measurements of shape (n_samples)\n",
    "    theta_hats(dict): fitted weights for each polynomial model (dict key is order)\n",
    "    max_order (scalar): max order of polynomial fit\n",
    "\n",
    "  Returns:\n",
    "    ndarray, ndarray: MSE error on training data and test data for each order\n",
    "  \"\"\"\n",
    "\n",
    "\n",
    "  mse_train = evaluate_poly_reg(x_train, y_train, theta_hats, max_order)\n",
    "  mse_test = evaluate_poly_reg(x_test, y_test, theta_hats, max_order)\n",
    "\n",
    "  return mse_train, mse_test\n",
    "\n",
    "\n",
    "# Compute train and test MSE\n",
    "mse_train, mse_test = compute_mse(x_train, x_test, y_train, y_test, theta_hats, max_order)\n",
    "\n",
    "# Visualize\n",
    "plot_MSE_poly_fits(mse_train, mse_test, max_order)"
   ]
  }
 ],
 "metadata": {
  "kernelspec": {
   "display_name": "Python 3 (ipykernel)",
   "language": "python",
   "name": "python3"
  },
  "language_info": {
   "codemirror_mode": {
    "name": "ipython",
    "version": 3
   },
   "file_extension": ".py",
   "mimetype": "text/x-python",
   "name": "python",
   "nbconvert_exporter": "python",
   "pygments_lexer": "ipython3",
   "version": "3.11.7"
  }
 },
 "nbformat": 4,
 "nbformat_minor": 5
}
