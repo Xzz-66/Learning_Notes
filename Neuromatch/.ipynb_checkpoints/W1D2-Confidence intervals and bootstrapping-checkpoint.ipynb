{
 "cells": [
  {
   "cell_type": "code",
   "execution_count": 1,
   "id": "b8214a56-ce0a-4519-9043-ab2328930aa7",
   "metadata": {},
   "outputs": [],
   "source": [
    "# Imports\n",
    "import numpy as np\n",
    "import matplotlib.pyplot as plt"
   ]
  },
  {
   "cell_type": "code",
   "execution_count": 2,
   "id": "e1a5e226-17d9-44d4-b56d-42d3434a72bc",
   "metadata": {},
   "outputs": [],
   "source": [
    "# @title Plotting Functions\n",
    "\n",
    "def plot_original_and_resample(x, y, x_, y_):\n",
    "  \"\"\" Plot the original sample and the resampled points from this sample.\n",
    "\n",
    "  Args:\n",
    "    x (ndarray): An array of shape (samples,) that contains the input values.\n",
    "    y (ndarray): An array of shape (samples,) that contains the corresponding\n",
    "      measurement values to the inputs.\n",
    "    x_ (ndarray): An array of shape (samples,) with a subset of input values from x\n",
    "    y_ (ndarray): An array of shape (samples,) with a the corresponding subset\n",
    "      of measurement values as x_ from y\n",
    "\n",
    "  \"\"\"\n",
    "  fig, (ax1, ax2) = plt.subplots(ncols=2, figsize=(12, 5))\n",
    "  ax1.scatter(x, y)\n",
    "  ax1.set(title='Original', xlabel='x', ylabel='y')\n",
    "\n",
    "  ax2.scatter(x_, y_, color='c')\n",
    "\n",
    "  ax2.set(title='Resampled', xlabel='x', ylabel='y',\n",
    "          xlim=ax1.get_xlim(), ylim=ax1.get_ylim())\n",
    "  plt.show()"
   ]
  },
  {
   "cell_type": "markdown",
   "id": "362cc38a-a2c1-4ddd-bbe1-d1ce9e774717",
   "metadata": {},
   "source": [
    "# Section 1: Bootstrapping"
   ]
  },
  {
   "cell_type": "code",
   "execution_count": 3,
   "id": "f8983ccb-fee2-4743-be2c-54a3dcd717e7",
   "metadata": {},
   "outputs": [
    {
     "data": {
      "image/png": "[encoded data removed]",
      "text/plain": [
       "<Figure size 640x480 with 1 Axes>"
      ]
     },
     "metadata": {},
     "output_type": "display_data"
    }
   ],
   "source": [
    "#@title\n",
    "\n",
    "#@markdown Execute this cell to simulate some data\n",
    "\n",
    "# setting a fixed seed to our random number generator ensures we will always\n",
    "# get the same psuedorandom number sequence\n",
    "np.random.seed(121)\n",
    "\n",
    "# Let's set some parameters\n",
    "theta = 1.2\n",
    "n_samples = 15\n",
    "\n",
    "# Draw x and then calculate y\n",
    "x = 10 * np.random.rand(n_samples)  # sample from a uniform distribution over [0,10)\n",
    "noise = np.random.randn(n_samples)  # sample from a standard normal distribution\n",
    "y = theta * x + noise\n",
    "\n",
    "fig, ax = plt.subplots()\n",
    "ax.scatter(x, y)  # produces a scatter plot\n",
    "ax.set(xlabel='x', ylabel='y');"
   ]
  },
  {
   "cell_type": "markdown",
   "id": "db6eb27a-c427-42b8-89e8-66cb5ceb309c",
   "metadata": {},
   "source": [
    "## Resample Dataset with Replacement"
   ]
  },
  {
   "cell_type": "code",
   "execution_count": 4,
   "id": "d2673d97-1932-470d-b0d2-3206917f5bf5",
   "metadata": {},
   "outputs": [
    {
     "ename": "NotImplementedError",
     "evalue": "Student exercise: resample dataset with replacement",
     "output_type": "error",
     "traceback": [
      "\u001b[0;31m---------------------------------------------------------------------------\u001b[0m",
      "\u001b[0;31mNotImplementedError\u001b[0m                       Traceback (most recent call last)",
      "Cell \u001b[0;32mIn[4], line 28\u001b[0m\n\u001b[1;32m     24\u001b[0m   y_ \u001b[38;5;241m=\u001b[39m y[sample_idx]\n\u001b[1;32m     26\u001b[0m   \u001b[38;5;28;01mreturn\u001b[39;00m x_, y_\n\u001b[0;32m---> 28\u001b[0m x_, y_ \u001b[38;5;241m=\u001b[39m resample_with_replacement(x, y)\n\u001b[1;32m     30\u001b[0m plot_original_and_resample(x, y, x_, y_)\n",
      "Cell \u001b[0;32mIn[4], line 16\u001b[0m, in \u001b[0;36mresample_with_replacement\u001b[0;34m(x, y)\u001b[0m\n\u001b[1;32m      2\u001b[0m \u001b[38;5;250m\u001b[39m\u001b[38;5;124;03m\"\"\"Resample data points with replacement from the dataset of `x` inputs and\u001b[39;00m\n\u001b[1;32m      3\u001b[0m \u001b[38;5;124;03m`y` measurements.\u001b[39;00m\n\u001b[1;32m      4\u001b[0m \n\u001b[0;32m   (...)\u001b[0m\n\u001b[1;32m     11\u001b[0m \u001b[38;5;124;03m  ndarray, ndarray: The newly resampled `x` and `y` data points.\u001b[39;00m\n\u001b[1;32m     12\u001b[0m \u001b[38;5;124;03m\"\"\"\u001b[39;00m\n\u001b[1;32m     13\u001b[0m \u001b[38;5;66;03m#######################################################\u001b[39;00m\n\u001b[1;32m     14\u001b[0m \u001b[38;5;66;03m## TODO for students: resample dataset with replacement\u001b[39;00m\n\u001b[1;32m     15\u001b[0m \u001b[38;5;66;03m# Fill out function and remove\u001b[39;00m\n\u001b[0;32m---> 16\u001b[0m \u001b[38;5;28;01mraise\u001b[39;00m \u001b[38;5;167;01mNotImplementedError\u001b[39;00m(\u001b[38;5;124m\"\u001b[39m\u001b[38;5;124mStudent exercise: resample dataset with replacement\u001b[39m\u001b[38;5;124m\"\u001b[39m)\n\u001b[1;32m     17\u001b[0m \u001b[38;5;66;03m#######################################################\u001b[39;00m\n\u001b[1;32m     18\u001b[0m \n\u001b[1;32m     19\u001b[0m \u001b[38;5;66;03m# Get array of indices for resampled points\u001b[39;00m\n\u001b[1;32m     20\u001b[0m sample_idx \u001b[38;5;241m=\u001b[39m np\u001b[38;5;241m.\u001b[39mrandom\u001b[38;5;241m.\u001b[39mchoice(\u001b[38;5;28mlen\u001b[39m(x), size\u001b[38;5;241m=\u001b[39m\u001b[38;5;28mlen\u001b[39m(x), replace\u001b[38;5;241m=\u001b[39m\u001b[38;5;28;01mTrue\u001b[39;00m)\n",
      "\u001b[0;31mNotImplementedError\u001b[0m: Student exercise: resample dataset with replacement"
     ]
    }
   ],
   "source": [
    "def resample_with_replacement(x, y):\n",
    "  \"\"\"Resample data points with replacement from the dataset of `x` inputs and\n",
    "  `y` measurements.\n",
    "\n",
    "  Args:\n",
    "    x (ndarray): An array of shape (samples,) that contains the input values.\n",
    "    y (ndarray): An array of shape (samples,) that contains the corresponding\n",
    "      measurement values to the inputs.\n",
    "\n",
    "  Returns:\n",
    "    ndarray, ndarray: The newly resampled `x` and `y` data points.\n",
    "  \"\"\"x[sample_idx]\n",
    "\n",
    "  # Get array of indices for resampled points\n",
    "  sample_idx = np.random.choice(len(x), size=len(x), replace=True)\n",
    "\n",
    "  # Sample from x and y according to sample_idx\n",
    "  x_ = x[sample_idx]\n",
    "  y_ = y[sample_idx]\n",
    "\n",
    "  return x_, y_\n",
    "\n",
    "x_, y_ = resample_with_replacement(x, y)\n",
    "\n",
    "plot_original_and_resample(x, y, x_, y_)"
   ]
  }
 ],
 "metadata": {
  "kernelspec": {
   "display_name": "Python 3 (ipykernel)",
   "language": "python",
   "name": "python3"
  },
  "language_info": {
   "codemirror_mode": {
    "name": "ipython",
    "version": 3
   },
   "file_extension": ".py",
   "mimetype": "text/x-python",
   "name": "python",
   "nbconvert_exporter": "python",
   "pygments_lexer": "ipython3",
   "version": "3.11.7"
  }
 },
 "nbformat": 4,
 "nbformat_minor": 5
}
